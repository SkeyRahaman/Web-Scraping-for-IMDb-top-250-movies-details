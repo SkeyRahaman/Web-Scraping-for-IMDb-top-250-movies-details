{
 "cells": [
  {
   "cell_type": "markdown",
   "metadata": {},
   "source": [
    "# <u><b><h1>Web Scraping<h1></b></u>"
   ]
  },
  {
   "cell_type": "markdown",
   "metadata": {},
   "source": [
    "# <u>Creating a dataframe with datas from IMDb top 250 movies<u>"
   ]
  },
  {
   "cell_type": "markdown",
   "metadata": {},
   "source": [
    "Here i have used various Librarys,\n",
    "<li>Pandas to creat Dataframe.\n",
    "<li>BeautifulSoup to do Web Scraping.\n",
    "<li>tqdm to track the for loops."
   ]
  },
  {
   "cell_type": "code",
   "execution_count": 1,
   "metadata": {},
   "outputs": [],
   "source": [
    "import pandas as pd\n",
    "from bs4 import BeautifulSoup\n",
    "import requests\n",
    "from tqdm import tqdm"
   ]
  },
  {
   "cell_type": "markdown",
   "metadata": {},
   "source": [
    "Here i have taken the URL from the official IMDb page and stored it in url variable."
   ]
  },
  {
   "cell_type": "code",
   "execution_count": 2,
   "metadata": {},
   "outputs": [],
   "source": [
    "#the url of the first page\n",
    "url = \"https://www.imdb.com/list/ls068082370/\""
   ]
  },
  {
   "cell_type": "markdown",
   "metadata": {},
   "source": [
    "Down is a function that extracts the url of the all pages thet contains the information of all 250 top rated IMDb movies.\n",
    "<li> \"all_urls\" = Will contain all the urls of the pages that we need to scrap!\n",
    "<li> \"url\" = Loop variable, i.e:- used by the while loop as a terminating variable."
   ]
  },
  {
   "cell_type": "code",
   "execution_count": 3,
   "metadata": {},
   "outputs": [],
   "source": [
    "def all_page_link(start_url):\n",
    "    all_urls = []\n",
    "    url = start_url\n",
    "    while(url != None):            #Loop around all the required webpages and terminates when last page arive!\n",
    "        all_urls.append(url)\n",
    "        soup = BeautifulSoup(requests.get(url).text,\"html.parser\")\n",
    "        next_links = soup.find_all(class_='flat-button lister-page-next next-page')    #Extracts the next page link.\n",
    "        if (len(next_links) == 0):         # If their is no next page, it returns 0.\n",
    "            url = None\n",
    "        else:\n",
    "            next_page = \"https://www.imdb.com\" + next_links[0].get('href')\n",
    "            url = next_page\n",
    "    return all_urls"
   ]
  },
  {
   "cell_type": "markdown",
   "metadata": {},
   "source": [
    "director_and_actor is a function used to separate director and actor, as they are present in the same string in the time of extraction"
   ]
  },
  {
   "cell_type": "code",
   "execution_count": 4,
   "metadata": {},
   "outputs": [],
   "source": [
    "def director_and_actor(Director_and_star):\n",
    "    Director_and_star =  Director_and_star.replace(\"\\n\",\"\")\n",
    "    Director_and_star = Director_and_star.replace(\"|\",\"\")\n",
    "    Director_and_star = Director_and_star.split(\"Stars:\")\n",
    "    Director_and_star[0] = Director_and_star[0].replace(\"Director:\",\"\")\n",
    "    Director_and_star[0] = Director_and_star[0].replace(\"Directors:\",\"\")\n",
    "    for i in range(10):\n",
    "        Director_and_star[0]=Director_and_star[0].replace(\"  \",\" \")\n",
    "    director = Director_and_star[0][1:]\n",
    "    stars = Director_and_star[1]\n",
    "    stars = stars.replace(\":\",\"\")\n",
    "    return director,stars"
   ]
  },
  {
   "cell_type": "markdown",
   "metadata": {},
   "source": [
    "votes_and_gross_conveter is a function used to separate votes and gross, as they are present in the same string in the time of extraction"
   ]
  },
  {
   "cell_type": "code",
   "execution_count": 5,
   "metadata": {},
   "outputs": [],
   "source": [
    "def votes_and_gross_conveter(votes_and_gross):\n",
    "    votes_and_gross_list = []\n",
    "    for i in votes_and_gross:\n",
    "        votes_and_gross_list.append(i.text)\n",
    "    if(len(votes_and_gross)==2):\n",
    "        votes=votes_and_gross_list[0]\n",
    "        gross = votes_and_gross_list[1]\n",
    "    else:\n",
    "        votes=votes_and_gross_list[0]\n",
    "        gross = None\n",
    "    \n",
    "    return votes,gross\n"
   ]
  },
  {
   "cell_type": "markdown",
   "metadata": {},
   "source": [
    "This is our main function that Will do all the works..\n",
    "<li> \"main_array\" = stores all the big data.!\n",
    "<li> \"id\" = stores the id number of a movie.\n",
    "<li> \"name\" = Stores the name of the movie.\n",
    "<li> \"year\" = Stores the year in which the movie was released.\n",
    "<li> \"run_time\" = Stores the total runtime in minutes.\n",
    "<li> \"genre\" = Stores the type of movie.\n",
    "<li> \"rating\" = Stores the IMDb rating of the movie.\n",
    "<li> \"about\" = Stores a short discription about the movie.\n",
    "<li> \"director\" = stores the name of the director.\n",
    "<li> \"actors\" = Stores the name of the director.\n",
    "<li> \"votes\" = Stores the number of votes of the movie.\n",
    "<li> \"gross\" = Stores the net income of the movie."
   ]
  },
  {
   "cell_type": "code",
   "execution_count": 6,
   "metadata": {},
   "outputs": [
    {
     "name": "stderr",
     "output_type": "stream",
     "text": [
      "100%|████████████████████████████████████████████████████████████████████████████████████| 3/3 [00:15<00:00,  5.20s/it]\n"
     ]
    }
   ],
   "source": [
    "main_array = []\n",
    "for url in tqdm(all_page_link(\"https://www.imdb.com/list/ls068082370/\")):     #Runs the function for all the pages.\n",
    "    soup = BeautifulSoup(requests.get(url).text,\"html.parser\")         #Extracts out the main html code.\n",
    "    for link in soup.find_all(class_='lister-item-content'):\n",
    "        id = int(link.find('span',{\"class\":\"lister-item-index unbold text-primary\"}).text[:-1])\n",
    "        name = link.find('a').text\n",
    "        year = link.find('span',{\"class\":\"lister-item-year text-muted unbold\"}).text[1:5]\n",
    "        run_time = link.find('span',{\"class\":\"runtime\"}).text\n",
    "        genre = link.find('span',{\"class\":\"genre\"}).text[1:]\n",
    "        rating = link.find('span',{\"class\":\"ipl-rating-star__rating\"}).text\n",
    "        about = link.find_all('p')[1].text[5:]\n",
    "        director,actors = director_and_actor(link.find_all('p',{\"class\":\"text-muted text-small\"})[1].text)\n",
    "        votes, gross = votes_and_gross_conveter(link.find_all('span',{\"name\":\"nv\"}))\n",
    "        votes = int(votes.replace(\",\",\"\"))\n",
    "        list_of_all = [id,name,year,run_time,genre,rating,about,director,actors,votes,gross]\n",
    "        main_array.append(list_of_all)"
   ]
  },
  {
   "cell_type": "code",
   "execution_count": 7,
   "metadata": {},
   "outputs": [],
   "source": [
    "#this index variable contains the name of the columns of the data frame.\n",
    "index = [\"id\",\"name\",\"year\",\"run_time\",\"genre\",\"rating\",\"about\",\"director\",\"actors\",\"votes\",\"gross\"]"
   ]
  },
  {
   "cell_type": "code",
   "execution_count": 8,
   "metadata": {},
   "outputs": [],
   "source": [
    "df = pd.DataFrame(main_array,columns=index)   #creating the DataFrame using \"main_array\""
   ]
  },
  {
   "cell_type": "code",
   "execution_count": 9,
   "metadata": {},
   "outputs": [
    {
     "data": {
      "text/html": [
       "<div>\n",
       "<style scoped>\n",
       "    .dataframe tbody tr th:only-of-type {\n",
       "        vertical-align: middle;\n",
       "    }\n",
       "\n",
       "    .dataframe tbody tr th {\n",
       "        vertical-align: top;\n",
       "    }\n",
       "\n",
       "    .dataframe thead th {\n",
       "        text-align: right;\n",
       "    }\n",
       "</style>\n",
       "<table border=\"1\" class=\"dataframe\">\n",
       "  <thead>\n",
       "    <tr style=\"text-align: right;\">\n",
       "      <th></th>\n",
       "      <th>id</th>\n",
       "      <th>name</th>\n",
       "      <th>year</th>\n",
       "      <th>run_time</th>\n",
       "      <th>genre</th>\n",
       "      <th>rating</th>\n",
       "      <th>about</th>\n",
       "      <th>director</th>\n",
       "      <th>actors</th>\n",
       "      <th>votes</th>\n",
       "      <th>gross</th>\n",
       "    </tr>\n",
       "  </thead>\n",
       "  <tbody>\n",
       "    <tr>\n",
       "      <th>0</th>\n",
       "      <td>1</td>\n",
       "      <td>The Shawshank Redemption</td>\n",
       "      <td>1994</td>\n",
       "      <td>142 min</td>\n",
       "      <td>Drama</td>\n",
       "      <td>9.3</td>\n",
       "      <td>Two imprisoned men bond over a number of years...</td>\n",
       "      <td>Frank Darabont</td>\n",
       "      <td>Tim Robbins, Morgan Freeman, Bob Gunton, Willi...</td>\n",
       "      <td>2123335</td>\n",
       "      <td>$28.34M</td>\n",
       "    </tr>\n",
       "    <tr>\n",
       "      <th>1</th>\n",
       "      <td>2</td>\n",
       "      <td>The Godfather</td>\n",
       "      <td>1972</td>\n",
       "      <td>175 min</td>\n",
       "      <td>Crime, Drama</td>\n",
       "      <td>9.2</td>\n",
       "      <td>The aging patriarch of an organized crime dyna...</td>\n",
       "      <td>Francis Ford Coppola</td>\n",
       "      <td>Marlon Brando, Al Pacino, James Caan, Diane Ke...</td>\n",
       "      <td>1457883</td>\n",
       "      <td>$134.97M</td>\n",
       "    </tr>\n",
       "    <tr>\n",
       "      <th>2</th>\n",
       "      <td>3</td>\n",
       "      <td>The Dark Knight</td>\n",
       "      <td>2008</td>\n",
       "      <td>152 min</td>\n",
       "      <td>Action, Crime, Drama</td>\n",
       "      <td>9</td>\n",
       "      <td>When the menace known as The Joker emerges fro...</td>\n",
       "      <td>Christopher Nolan</td>\n",
       "      <td>Christian Bale, Heath Ledger, Aaron Eckhart, M...</td>\n",
       "      <td>2088497</td>\n",
       "      <td>$534.86M</td>\n",
       "    </tr>\n",
       "    <tr>\n",
       "      <th>3</th>\n",
       "      <td>4</td>\n",
       "      <td>The Godfather: Part II</td>\n",
       "      <td>1974</td>\n",
       "      <td>202 min</td>\n",
       "      <td>Crime, Drama</td>\n",
       "      <td>9</td>\n",
       "      <td>The early life and career of Vito Corleone in ...</td>\n",
       "      <td>Francis Ford Coppola</td>\n",
       "      <td>Al Pacino, Robert De Niro, Robert Duvall, Dian...</td>\n",
       "      <td>1013962</td>\n",
       "      <td>$57.30M</td>\n",
       "    </tr>\n",
       "    <tr>\n",
       "      <th>4</th>\n",
       "      <td>5</td>\n",
       "      <td>Pulp Fiction</td>\n",
       "      <td>1994</td>\n",
       "      <td>154 min</td>\n",
       "      <td>Crime, Drama</td>\n",
       "      <td>8.9</td>\n",
       "      <td>The lives of two mob hitmen, a boxer, a gangst...</td>\n",
       "      <td>Quentin Tarantino</td>\n",
       "      <td>John Travolta, Uma Thurman, Samuel L. Jackson,...</td>\n",
       "      <td>1662976</td>\n",
       "      <td>$107.93M</td>\n",
       "    </tr>\n",
       "  </tbody>\n",
       "</table>\n",
       "</div>"
      ],
      "text/plain": [
       "   id                      name  year run_time  \\\n",
       "0   1  The Shawshank Redemption  1994  142 min   \n",
       "1   2             The Godfather  1972  175 min   \n",
       "2   3           The Dark Knight  2008  152 min   \n",
       "3   4    The Godfather: Part II  1974  202 min   \n",
       "4   5              Pulp Fiction  1994  154 min   \n",
       "\n",
       "                              genre rating  \\\n",
       "0                 Drama                9.3   \n",
       "1          Crime, Drama                9.2   \n",
       "2  Action, Crime, Drama                  9   \n",
       "3          Crime, Drama                  9   \n",
       "4          Crime, Drama                8.9   \n",
       "\n",
       "                                               about               director  \\\n",
       "0  Two imprisoned men bond over a number of years...        Frank Darabont    \n",
       "1  The aging patriarch of an organized crime dyna...  Francis Ford Coppola    \n",
       "2  When the menace known as The Joker emerges fro...     Christopher Nolan    \n",
       "3  The early life and career of Vito Corleone in ...  Francis Ford Coppola    \n",
       "4  The lives of two mob hitmen, a boxer, a gangst...     Quentin Tarantino    \n",
       "\n",
       "                                              actors    votes     gross  \n",
       "0  Tim Robbins, Morgan Freeman, Bob Gunton, Willi...  2123335   $28.34M  \n",
       "1  Marlon Brando, Al Pacino, James Caan, Diane Ke...  1457883  $134.97M  \n",
       "2  Christian Bale, Heath Ledger, Aaron Eckhart, M...  2088497  $534.86M  \n",
       "3  Al Pacino, Robert De Niro, Robert Duvall, Dian...  1013962   $57.30M  \n",
       "4  John Travolta, Uma Thurman, Samuel L. Jackson,...  1662976  $107.93M  "
      ]
     },
     "execution_count": 9,
     "metadata": {},
     "output_type": "execute_result"
    }
   ],
   "source": [
    "df.head(5)"
   ]
  },
  {
   "cell_type": "code",
   "execution_count": 10,
   "metadata": {
    "scrolled": true
   },
   "outputs": [
    {
     "name": "stdout",
     "output_type": "stream",
     "text": [
      "<class 'pandas.core.frame.DataFrame'>\n",
      "RangeIndex: 250 entries, 0 to 249\n",
      "Data columns (total 11 columns):\n",
      "id          250 non-null int64\n",
      "name        250 non-null object\n",
      "year        250 non-null object\n",
      "run_time    250 non-null object\n",
      "genre       250 non-null object\n",
      "rating      250 non-null object\n",
      "about       250 non-null object\n",
      "director    250 non-null object\n",
      "actors      250 non-null object\n",
      "votes       250 non-null int64\n",
      "gross       218 non-null object\n",
      "dtypes: int64(2), object(9)\n",
      "memory usage: 21.6+ KB\n"
     ]
    }
   ],
   "source": [
    "df.info()"
   ]
  },
  {
   "cell_type": "markdown",
   "metadata": {},
   "source": [
    "## <b><u> Below is a function that you can call to save the dataframe as a csv file "
   ]
  },
  {
   "cell_type": "code",
   "execution_count": 11,
   "metadata": {},
   "outputs": [],
   "source": [
    "def DataFrame_to_csv():     #csv file will be saved in the same place as of the code.\n",
    "    name = input(\"Enter the name that you wantto give to the csv file. If no input is given the csv file will take a name as \\\"top_250_IMDb_movies.csv\\\" \")\n",
    "    if(name==\"\"):\n",
    "        print(\"Your File Name is :-\",\"top_250_IMDb_movies.csv\")\n",
    "        df.to_csv(\"top_250_IMDb_movies.csv\")\n",
    "    elif(name[-4:] == \".csv\"):\n",
    "        print(\"Your File Name is :-\",name)\n",
    "        df.to_csv(name)\n",
    "    else:\n",
    "        print(\"Your File Name is :-\",(name+\".csv\"))\n",
    "        df.to_csv(name+\".csv\")"
   ]
  },
  {
   "cell_type": "code",
   "execution_count": 12,
   "metadata": {},
   "outputs": [
    {
     "name": "stdout",
     "output_type": "stream",
     "text": [
      "Enter the name that you wantto give to the csv file. If no input is given the csv file will take a name as \"top_250_IMDb_movies.csv\" \n",
      "Your File Name is :- top_250_IMDb_movies.csv\n"
     ]
    }
   ],
   "source": [
    "DataFrame_to_csv()"
   ]
  },
  {
   "cell_type": "code",
   "execution_count": 13,
   "metadata": {},
   "outputs": [
    {
     "name": "stdout",
     "output_type": "stream",
     "text": [
      "Enter the name that you wantto give to the csv file. If no input is given the csv file will take a name as \"top_250_IMDb_movies.csv\" try.csv\n",
      "Your File Name is :- try.csv\n"
     ]
    }
   ],
   "source": [
    "DataFrame_to_csv()"
   ]
  },
  {
   "cell_type": "code",
   "execution_count": 14,
   "metadata": {},
   "outputs": [
    {
     "name": "stdout",
     "output_type": "stream",
     "text": [
      "Enter the name that you wantto give to the csv file. If no input is given the csv file will take a name as \"top_250_IMDb_movies.csv\" try without extention\n",
      "Your File Name is :- try without extention.csv\n"
     ]
    }
   ],
   "source": [
    "DataFrame_to_csv()"
   ]
  },
  {
   "cell_type": "code",
   "execution_count": null,
   "metadata": {},
   "outputs": [],
   "source": []
  },
  {
   "cell_type": "code",
   "execution_count": null,
   "metadata": {},
   "outputs": [],
   "source": []
  },
  {
   "cell_type": "code",
   "execution_count": null,
   "metadata": {},
   "outputs": [],
   "source": []
  },
  {
   "cell_type": "code",
   "execution_count": 15,
   "metadata": {},
   "outputs": [
    {
     "name": "stdout",
     "output_type": "stream",
     "text": [
      "2019-08-15 21:17:44.010252\n"
     ]
    }
   ],
   "source": [
    "\n",
    "from datetime import date\n",
    "from datetime import time\n",
    "from datetime import datetime\n",
    "\n",
    "print(datetime.now())"
   ]
  },
  {
   "cell_type": "code",
   "execution_count": null,
   "metadata": {},
   "outputs": [],
   "source": []
  }
 ],
 "metadata": {
  "kernelspec": {
   "display_name": "Python 3",
   "language": "python",
   "name": "python3"
  },
  "language_info": {
   "codemirror_mode": {
    "name": "ipython",
    "version": 3
   },
   "file_extension": ".py",
   "mimetype": "text/x-python",
   "name": "python",
   "nbconvert_exporter": "python",
   "pygments_lexer": "ipython3",
   "version": "3.7.1"
  }
 },
 "nbformat": 4,
 "nbformat_minor": 2
}
